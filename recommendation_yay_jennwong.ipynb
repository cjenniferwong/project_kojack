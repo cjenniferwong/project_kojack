{
 "cells": [
  {
   "cell_type": "markdown",
   "metadata": {},
   "source": [
    "# Yay Recommendations YAY"
   ]
  },
  {
   "cell_type": "code",
   "execution_count": 6,
   "metadata": {
    "ExecuteTime": {
     "end_time": "2018-09-12T21:11:55.558297Z",
     "start_time": "2018-09-12T21:11:55.554514Z"
    },
    "collapsed": true
   },
   "outputs": [],
   "source": [
    "import pickle\n",
    "from scipy.sparse import csr_matrix\n",
    "\n"
   ]
  },
  {
   "cell_type": "code",
   "execution_count": 2,
   "metadata": {
    "ExecuteTime": {
     "end_time": "2018-09-12T21:07:53.733056Z",
     "start_time": "2018-09-12T21:07:50.646063Z"
    }
   },
   "outputs": [
    {
     "name": "stderr",
     "output_type": "stream",
     "text": [
      "/Users/jennwon/anaconda3/lib/python3.6/importlib/_bootstrap.py:219: RuntimeWarning: numpy.dtype size changed, may indicate binary incompatibility. Expected 96, got 88\n",
      "  return f(*args, **kwds)\n",
      "/Users/jennwon/anaconda3/lib/python3.6/importlib/_bootstrap.py:219: RuntimeWarning: numpy.dtype size changed, may indicate binary incompatibility. Expected 96, got 88\n",
      "  return f(*args, **kwds)\n"
     ]
    }
   ],
   "source": [
    "with open ('combined_following_relationships.pkl', 'rb') as file_name:\n",
    "    combined_df = pickle.load(file_name)\n",
    "    file_name.close()"
   ]
  },
  {
   "cell_type": "code",
   "execution_count": 3,
   "metadata": {
    "ExecuteTime": {
     "end_time": "2018-09-12T21:09:32.004783Z",
     "start_time": "2018-09-12T21:09:31.989688Z"
    }
   },
   "outputs": [
    {
     "data": {
      "text/plain": [
       "pandas.core.frame.DataFrame"
      ]
     },
     "execution_count": 3,
     "metadata": {},
     "output_type": "execute_result"
    }
   ],
   "source": [
    "type(combined_df)"
   ]
  },
  {
   "cell_type": "code",
   "execution_count": 4,
   "metadata": {
    "ExecuteTime": {
     "end_time": "2018-09-12T21:09:32.139161Z",
     "start_time": "2018-09-12T21:09:32.126666Z"
    }
   },
   "outputs": [
    {
     "data": {
      "text/html": [
       "<div>\n",
       "<style scoped>\n",
       "    .dataframe tbody tr th:only-of-type {\n",
       "        vertical-align: middle;\n",
       "    }\n",
       "\n",
       "    .dataframe tbody tr th {\n",
       "        vertical-align: top;\n",
       "    }\n",
       "\n",
       "    .dataframe thead th {\n",
       "        text-align: right;\n",
       "    }\n",
       "</style>\n",
       "<table border=\"1\" class=\"dataframe\">\n",
       "  <thead>\n",
       "    <tr style=\"text-align: right;\">\n",
       "      <th></th>\n",
       "      <th>user</th>\n",
       "      <th>is_following</th>\n",
       "      <th>relationship</th>\n",
       "    </tr>\n",
       "  </thead>\n",
       "  <tbody>\n",
       "    <tr>\n",
       "      <th>0</th>\n",
       "      <td>477797010</td>\n",
       "      <td>38611053</td>\n",
       "      <td>1</td>\n",
       "    </tr>\n",
       "    <tr>\n",
       "      <th>1</th>\n",
       "      <td>477797010</td>\n",
       "      <td>281433942</td>\n",
       "      <td>1</td>\n",
       "    </tr>\n",
       "    <tr>\n",
       "      <th>2</th>\n",
       "      <td>477797010</td>\n",
       "      <td>18088787</td>\n",
       "      <td>1</td>\n",
       "    </tr>\n",
       "    <tr>\n",
       "      <th>3</th>\n",
       "      <td>477797010</td>\n",
       "      <td>326424092</td>\n",
       "      <td>1</td>\n",
       "    </tr>\n",
       "    <tr>\n",
       "      <th>4</th>\n",
       "      <td>477797010</td>\n",
       "      <td>103880112</td>\n",
       "      <td>1</td>\n",
       "    </tr>\n",
       "  </tbody>\n",
       "</table>\n",
       "</div>"
      ],
      "text/plain": [
       "        user is_following  relationship\n",
       "0  477797010     38611053             1\n",
       "1  477797010    281433942             1\n",
       "2  477797010     18088787             1\n",
       "3  477797010    326424092             1\n",
       "4  477797010    103880112             1"
      ]
     },
     "execution_count": 4,
     "metadata": {},
     "output_type": "execute_result"
    }
   ],
   "source": [
    "combined_df.head()"
   ]
  },
  {
   "cell_type": "code",
   "execution_count": 12,
   "metadata": {
    "ExecuteTime": {
     "end_time": "2018-09-12T21:14:31.965414Z",
     "start_time": "2018-09-12T21:14:30.649236Z"
    }
   },
   "outputs": [
    {
     "name": "stdout",
     "output_type": "stream",
     "text": [
      "<class 'pandas.core.frame.DataFrame'>\n",
      "Int64Index: 9826739 entries, 0 to 3478499\n",
      "Data columns (total 3 columns):\n",
      "user            int64\n",
      "is_following    int64\n",
      "relationship    int64\n",
      "dtypes: int64(3)\n",
      "memory usage: 299.9 MB\n"
     ]
    }
   ],
   "source": [
    "combined_df.user = combined_df.user.astype(int)\n",
    "combined_df.is_following = combined_df.is_following.astype(int)\n",
    "combined_df.info()\n"
   ]
  },
  {
   "cell_type": "code",
   "execution_count": 13,
   "metadata": {
    "ExecuteTime": {
     "end_time": "2018-09-12T21:14:40.280215Z",
     "start_time": "2018-09-12T21:14:31.983274Z"
    },
    "collapsed": true
   },
   "outputs": [],
   "source": [
    "sparse_matrix = csr_matrix((combined_df['relationship'], #this is the values that i care about\n",
    "                            (combined_df['user'], combined_df['is_following']))) # these are the row/columns"
   ]
  },
  {
   "cell_type": "code",
   "execution_count": 22,
   "metadata": {
    "ExecuteTime": {
     "end_time": "2018-09-12T21:18:12.223148Z",
     "start_time": "2018-09-12T21:18:11.686660Z"
    },
    "scrolled": true
   },
   "outputs": [
    {
     "name": "stdout",
     "output_type": "stream",
     "text": [
      "  (171, 4391106)\t1\n",
      "  (189, 54450416)\t1\n",
      "  (196, 6228627)\t1\n",
      "  (235, 29063)\t1\n",
      "  (254, 20605616)\t1\n",
      "  (256, 41501527)\t1\n",
      "  (293, 4827016)\t1\n",
      "  (343, 40641)\t1\n",
      "  (343, 56627)\t1\n",
      "  (343, 910886)\t1\n",
      "  (357, 1159)\t1\n",
      "  (402, 290932)\t1\n",
      "  (410, 17512809)\t1\n",
      "  (425, 1758)\t1\n",
      "  (449, 7717052)\t1\n",
      "  (449, 45988850)\t1\n",
      "  (449, 52418005)\t1\n",
      "  (449, 160250093)\t1\n",
      "  (449, 163923460)\t1\n",
      "  (449, 171335681)\t1\n",
      "  (449, 214355273)\t1\n",
      "  (449, 219830046)\t1\n",
      "  (449, 250875231)\t1\n",
      "  (449, 255029545)\t1\n",
      "  (449, 271689246)\t1\n",
      "  :\t:\n",
      "  (504970227, 454240836)\t1\n",
      "  (504974829, 454240836)\t1\n",
      "  (504976440, 334655386)\t1\n",
      "  (504978252, 454240836)\t1\n",
      "  (504979395, 434444280)\t1\n",
      "  (504982170, 239723135)\t1\n",
      "  (504985047, 219577320)\t1\n",
      "  (504988794, 12090207)\t1\n",
      "  (504990651, 246617940)\t1\n",
      "  (504996744, 316875189)\t1\n",
      "  (505001196, 284152345)\t1\n",
      "  (505016706, 503566059)\t1\n",
      "  (505017075, 7840943)\t1\n",
      "  (505041669, 217850326)\t1\n",
      "  (505041669, 299523286)\t1\n",
      "  (505042206, 417146259)\t1\n",
      "  (505054344, 342381442)\t1\n",
      "  (505073523, 16148591)\t1\n",
      "  (505073523, 107172622)\t1\n",
      "  (505073523, 151647878)\t1\n",
      "  (505073523, 282302777)\t1\n",
      "  (505073523, 350041697)\t1\n",
      "  (505092855, 126872098)\t1\n",
      "  (505097988, 395128275)\t1\n",
      "  (505116384, 481127376)\t1\n"
     ]
    }
   ],
   "source": [
    "# (sparse_matrix.shape) # (50.5116385, 50.5100818)\n",
    "print(sparse_matrix)"
   ]
  },
  {
   "cell_type": "markdown",
   "metadata": {},
   "source": [
    "# LMAO IM SO DUMB OK LETS START THE BETTER RECOMMENDER"
   ]
  },
  {
   "cell_type": "code",
   "execution_count": 11,
   "metadata": {
    "ExecuteTime": {
     "end_time": "2018-09-17T01:10:37.610365Z",
     "start_time": "2018-09-17T01:10:37.546812Z"
    },
    "code_folding": []
   },
   "outputs": [],
   "source": [
    "# ok write a function that takes the user's likes\n",
    "import requests\n",
    "def get_user_likes(user_id):\n",
    "    \"\"\"\n",
    "    this function takes a user_id and returns a list of all the songs that the user liked\n",
    "    \"\"\"\n",
    "    client_id = 'kLve5Sh7JUSsPl5cCgQ7znRpV2fpzzu8'\n",
    "    version = '1535697731'\n",
    "    url = f'https://api-v2.soundcloud.com/users/{user_id}/likes?'\n",
    "    #client_id={client_id}&limit=200&offset=0&linked_partitioning=1&app_version={version}&app_locale=en'\n",
    "    parameters = {\n",
    "        'client_id': 'kLve5Sh7JUSsPl5cCgQ7znRpV2fpzzu8',\n",
    "        'limit' : 200,\n",
    "        'offset' : 0,\n",
    "        'linked_partition' : 1,\n",
    "        'app_version': '1535697731',\n",
    "        'app_locale' : 'en'\n",
    "        \n",
    "    }\n",
    "    print(f'getting likes for {user_id}')\n",
    "    try:\n",
    "#         print(url)\n",
    "        parsed = requests.get(url, params = parameters).json()\n",
    "    except Exception as e:\n",
    "        print(e)\n",
    "    likes_list = []\n",
    "    base_url = ''\n",
    "    \n",
    "    while parsed.get('next_href') != None: \n",
    "        # print('had next page')\n",
    "        likes_list.extend(parsed.get('collection')) #adding what i already have\n",
    "        offset = parsed.get('next_href').split('offset=')[1].split('&')[0]\n",
    "        url = f'https://api-v2.soundcloud.com/users/{user_id}/likes?client_id={client_id}&limit=200&offset={offset}&linked_partitioning=1&app_version={version}&app_locale=en'\n",
    "        parsed = requests.get(url).json()\n",
    "\n",
    "    try :\n",
    "        likes_list.extend(parsed.get('collection'))\n",
    "        #if song.get('track', None) != None:\n",
    "        \n",
    "        songs_sans_id = [song.get('track', None) for song in likes_list]\n",
    "#         print(f'length of songs before getting id: {len(songs_sans_id)}')\n",
    "        likes_list = []\n",
    "        for index, song in enumerate(songs_sans_id):\n",
    "#             print(f'entered loop for index {index}')\n",
    "            # print(song)\n",
    "            if song != None:\n",
    "                likes_list.append(song.get('id'))\n",
    "        #songs_id = [song.get('id') for song in songs_sans_id if (song != None)]\n",
    "        print(len(likes_list), '\\n')\n",
    "        # print((songs[0].keys()))\n",
    "        #print(len(songs))\n",
    "#         song_id = [song.get('id', None) for song in songs]\n",
    "    except Exception as e:\n",
    "        print(user_id)\n",
    "        #print(likes_list)\n",
    "        print(e)\n",
    "        likes_list = []\n",
    "    #print(len(likes_list))\n",
    "    return likes_list #this is the collection list which includes all the users in the list_subject"
   ]
  },
  {
   "cell_type": "code",
   "execution_count": 12,
   "metadata": {
    "ExecuteTime": {
     "end_time": "2018-09-17T01:10:42.934384Z",
     "start_time": "2018-09-17T01:10:42.860565Z"
    }
   },
   "outputs": [],
   "source": [
    "# ok write a function that takes the user's likes\n",
    "import requests\n",
    "def get_user_streams(user_id):\n",
    "    \"\"\"\n",
    "    this function takes a user_id and returns a list of all the songs that the user liked\n",
    "    \"\"\"\n",
    "#     https://api-v2.soundcloud.com/stream/users/58899599?\n",
    "# client_id=kLve5Sh7JUSsPl5cCgQ7znRpV2fpzzu8&limit=200&offset=0&linked_partitioning=1&app_version=1535697731&app_locale=en\n",
    "    client_id = 'Dqvh7tFjir84G92sDsBuZXnNTOsTpZYa'\n",
    "    version = '1536759207'\n",
    "    url = f'https://api-v2.soundcloud.com/stream/users/{user_id}'\n",
    "    #client_id={client_id}&limit=200&offset=0&linked_partitioning=1&app_version={version}&app_locale=en'\n",
    "    parameters = {\n",
    "        'client_id': 'kLve5Sh7JUSsPl5cCgQ7znRpV2fpzzu8',\n",
    "        'limit' : 200,\n",
    "        'offset' : 0,\n",
    "        'linked_partition' : 1,\n",
    "        'app_version': '1535697731',\n",
    "        'app_locale' : 'en'\n",
    "        \n",
    "    }\n",
    "    print(f'getting likes for {user_id}')\n",
    "    try:\n",
    "#         print(url)\n",
    "        parsed = requests.get(url, params = parameters).json()\n",
    "    except Exception as e:\n",
    "        print(e)\n",
    "    likes_list = []\n",
    "    base_url = ''\n",
    "    \n",
    "    while parsed.get('next_href') != None: \n",
    "        # print('had next page')\n",
    "        likes_list.extend(parsed.get('collection')) #adding what i already have\n",
    "        offset = parsed.get('next_href').split('offset=')[1].split('&')[0]\n",
    "        url = f'https://api-v2.soundcloud.com/users/{user_id}/likes?client_id={client_id}&limit=200&offset={offset}&linked_partitioning=1&app_version={version}&app_locale=en'\n",
    "        parsed = requests.get(url).json()\n",
    "\n",
    "    try :\n",
    "        likes_list.extend(parsed.get('collection'))\n",
    "        #if song.get('track', None) != None:\n",
    "        \n",
    "        songs_sans_id = [song.get('track', None) for song in likes_list]\n",
    "#         print(f'length of songs before getting id: {len(songs_sans_id)}')\n",
    "        likes_list = []\n",
    "        for index, song in enumerate(songs_sans_id):\n",
    "#             print(f'entered loop for index {index}')\n",
    "            # print(song)\n",
    "            if song != None:\n",
    "                likes_list.append(song.get('id'))\n",
    "        #songs_id = [song.get('id') for song in songs_sans_id if (song != None)]\n",
    "        print(len(likes_list), '\\n')\n",
    "        # print((songs[0].keys()))\n",
    "        #print(len(songs))\n",
    "#         song_id = [song.get('id', None) for song in songs]\n",
    "    except Exception as e:\n",
    "        print(user_id)\n",
    "        #print(likes_list)\n",
    "        print(e)\n",
    "        likes_list = []\n",
    "    #print(len(likes_list))\n",
    "    return likes_list #this is the collection list which includes all the users in the list_subject"
   ]
  },
  {
   "cell_type": "code",
   "execution_count": 13,
   "metadata": {
    "ExecuteTime": {
     "end_time": "2018-09-17T01:10:44.475576Z",
     "start_time": "2018-09-17T01:10:43.401129Z"
    }
   },
   "outputs": [
    {
     "name": "stdout",
     "output_type": "stream",
     "text": [
      "getting likes for 58899599\n",
      "182 \n",
      "\n"
     ]
    }
   ],
   "source": [
    "user_id = 58899599\n",
    "likes_id = get_user_likes(user_id)"
   ]
  },
  {
   "cell_type": "code",
   "execution_count": 14,
   "metadata": {
    "ExecuteTime": {
     "end_time": "2018-09-17T01:10:46.939621Z",
     "start_time": "2018-09-17T01:10:46.919258Z"
    },
    "code_folding": [],
    "collapsed": true
   },
   "outputs": [],
   "source": [
    "# ok now write a function that finds all the users linked to the user by max x degrees away\n",
    "\n",
    "def get_following(user_tuple):\n",
    "    user_id, degree = user_tuple\n",
    "    print(f'I entered get_following, and I am at degree {degree} for user {user_id}', flush= True)\n",
    "    client_id = 'Dqvh7tFjir84G92sDsBuZXnNTOsTpZYa'\n",
    "    version = '1536759207'\n",
    "    url = f'https://api-v2.soundcloud.com/users/{user_id}/followings?client_id={client_id}&limit=200&offset=0&linked_partitioning=1&app_version={version}&app_locale=en'\n",
    "    try:\n",
    "        parsed = requests.get(url).json()\n",
    "    except Exception as e:\n",
    "        print(e)\n",
    "    following_list = []\n",
    "    base_url = ''\n",
    "    \n",
    "    while parsed.get('next_href') != None: \n",
    "        following_list.extend(parsed.get('collection'))\n",
    "        offset = parsed.get('next_href').split('offset=')[1].split('&')[0]\n",
    "        url = f'https://api-v2.soundcloud.com/users/{user_id}/followings?client_id={client_id}&limit=200&offset={offset}&linked_partitioning=1&app_version={version}&app_locale=en'\n",
    "        parsed = requests.get(url).json()\n",
    "\n",
    "    following_list.extend(parsed.get('collection'))\n",
    "\n",
    "    return [(song.get('id'), degree + 1) for song in following_list] #this is the collection list which includes all the users in the list_subject"
   ]
  },
  {
   "cell_type": "code",
   "execution_count": 15,
   "metadata": {
    "ExecuteTime": {
     "end_time": "2018-09-17T01:10:49.045850Z",
     "start_time": "2018-09-17T01:10:48.735047Z"
    }
   },
   "outputs": [
    {
     "name": "stdout",
     "output_type": "stream",
     "text": [
      "I entered get_following, and I am at degree 0 for user 58899599\n"
     ]
    }
   ],
   "source": [
    "following_id = get_following((58899599, 0)) #this returns a list of users that i follow and the degree from seed"
   ]
  },
  {
   "cell_type": "code",
   "execution_count": 16,
   "metadata": {
    "ExecuteTime": {
     "end_time": "2018-09-17T01:10:56.619608Z",
     "start_time": "2018-09-17T01:10:56.605337Z"
    }
   },
   "outputs": [
    {
     "data": {
      "text/plain": [
       "[(38611053, 1),\n",
       " (141186922, 1),\n",
       " (165051291, 1),\n",
       " (121978323, 1),\n",
       " (312963, 1),\n",
       " (3212849, 1),\n",
       " (27621001, 1),\n",
       " (169164060, 1),\n",
       " (27059681, 1),\n",
       " (214565468, 1),\n",
       " (119133497, 1),\n",
       " (145083453, 1),\n",
       " (120319217, 1),\n",
       " (4360546, 1),\n",
       " (3399796, 1),\n",
       " (52042226, 1),\n",
       " (18547356, 1),\n",
       " (2393812, 1),\n",
       " (8010696, 1),\n",
       " (33525051, 1),\n",
       " (488287, 1),\n",
       " (3157684, 1),\n",
       " (18542512, 1),\n",
       " (1555417, 1),\n",
       " (52154848, 1),\n",
       " (2947360, 1),\n",
       " (9152687, 1)]"
      ]
     },
     "execution_count": 16,
     "metadata": {},
     "output_type": "execute_result"
    }
   ],
   "source": [
    "following_id"
   ]
  },
  {
   "cell_type": "code",
   "execution_count": 21,
   "metadata": {
    "ExecuteTime": {
     "end_time": "2018-09-17T01:12:13.451822Z",
     "start_time": "2018-09-17T01:12:08.311196Z"
    },
    "scrolled": true
   },
   "outputs": [
    {
     "name": "stdout",
     "output_type": "stream",
     "text": [
      "I entered get_following, and I am at degree 1 for user 52154848\n",
      "deque([(52154848, 1), (141186922, 1), (15838253, 2), (6136047, 2)])\n",
      "I entered get_following, and I am at degree 1 for user 141186922\n",
      "deque([(52154848, 1), (141186922, 1), (15838253, 2), (6136047, 2), (41671811, 2), (21457447, 2)])\n",
      "I entered get_following, and I am at degree 2 for user 15838253\n",
      "deque([(52154848, 1), (141186922, 1), (15838253, 2), (6136047, 2), (41671811, 2), (21457447, 2), (87231728, 3), (5140422, 3)])\n",
      "I entered get_following, and I am at degree 2 for user 6136047\n",
      "deque([(52154848, 1), (141186922, 1), (15838253, 2), (6136047, 2), (41671811, 2), (21457447, 2), (87231728, 3), (5140422, 3), (31727523, 3), (2098297, 3)])\n",
      "I entered get_following, and I am at degree 2 for user 41671811\n",
      "deque([(52154848, 1), (141186922, 1), (15838253, 2), (6136047, 2), (41671811, 2), (21457447, 2), (87231728, 3), (5140422, 3), (31727523, 3), (2098297, 3), (120987187, 3), (252907, 3)])\n",
      "I entered get_following, and I am at degree 2 for user 21457447\n",
      "deque([(52154848, 1), (141186922, 1), (15838253, 2), (6136047, 2), (41671811, 2), (21457447, 2), (87231728, 3), (5140422, 3), (31727523, 3), (2098297, 3), (120987187, 3), (252907, 3), (25968879, 3), (7402148, 3)])\n"
     ]
    }
   ],
   "source": [
    "from copy import deepcopy\n",
    "import random\n",
    "from collections import deque\n",
    "# user_ids = deepcopy(Q)\n",
    "\n",
    "Q = deque(random.sample(following_id, 2))\n",
    "user_ids = deepcopy(Q)#i want 5 random users that I am following\n",
    "degree_current = 1\n",
    "while Q and degree_current < 3:\n",
    "    new_user, degree = Q.popleft()  \n",
    "    if degree < 3:\n",
    "    # recall new_user is a tuple of user_id and degree from the seed\n",
    "        following = get_following((new_user, degree)) # this fcn will print out the degree of the followings\n",
    "        following = random.sample(following, min(len(following), 2))\n",
    "        Q.extend(deque(following))\n",
    "        user_ids.extend(following)\n",
    "#         print(user_ids)\n",
    "    degree_current = degree\n"
   ]
  },
  {
   "cell_type": "code",
   "execution_count": 22,
   "metadata": {
    "ExecuteTime": {
     "end_time": "2018-09-17T01:12:30.949910Z",
     "start_time": "2018-09-17T01:12:30.944536Z"
    }
   },
   "outputs": [
    {
     "data": {
      "text/plain": [
       "14"
      ]
     },
     "execution_count": 22,
     "metadata": {},
     "output_type": "execute_result"
    }
   ],
   "source": [
    "len(user_ids)"
   ]
  },
  {
   "cell_type": "code",
   "execution_count": 23,
   "metadata": {
    "ExecuteTime": {
     "end_time": "2018-09-17T01:13:14.078832Z",
     "start_time": "2018-09-17T01:12:46.668789Z"
    },
    "scrolled": true
   },
   "outputs": [
    {
     "name": "stdout",
     "output_type": "stream",
     "text": [
      "getting likes for 52154848\n",
      "123 \n",
      "\n",
      "getting likes for 141186922\n",
      "251 \n",
      "\n",
      "getting likes for 15838253\n",
      "81 \n",
      "\n",
      "getting likes for 6136047\n",
      "453 \n",
      "\n",
      "getting likes for 41671811\n",
      "0 \n",
      "\n",
      "getting likes for 21457447\n",
      "577 \n",
      "\n",
      "getting likes for 87231728\n",
      "1 \n",
      "\n",
      "getting likes for 5140422\n",
      "2 \n",
      "\n",
      "getting likes for 31727523\n",
      "23 \n",
      "\n",
      "getting likes for 2098297\n",
      "661 \n",
      "\n",
      "getting likes for 120987187\n",
      "4 \n",
      "\n",
      "getting likes for 252907\n",
      "6 \n",
      "\n",
      "getting likes for 25968879\n",
      "1 \n",
      "\n",
      "getting likes for 7402148\n",
      "13 \n",
      "\n"
     ]
    }
   ],
   "source": [
    "from time import *\n",
    "# ok now for these people get their likes\n",
    "list_of_user_songs_dict = []\n",
    "while user_ids:\n",
    "    user_id, degree = user_ids.popleft()\n",
    "    try:\n",
    "        likes = get_user_likes(user_id)\n",
    "        # print(len(likes))# returns a list of all the song_id that the user liked\n",
    "        user_likes = {\n",
    "        'user_id':user_id,\n",
    "        'songs': likes,\n",
    "        'degree':degree\n",
    "        }\n",
    "        list_of_user_songs_dict.append(user_likes)\n",
    "#         sleep(2);\n",
    "    except Exception as e:\n",
    "        print(e)\n",
    "    #break\n",
    "        \n",
    "    \n",
    "    \n",
    "    "
   ]
  },
  {
   "cell_type": "code",
   "execution_count": 24,
   "metadata": {
    "ExecuteTime": {
     "end_time": "2018-09-17T01:13:18.455895Z",
     "start_time": "2018-09-17T01:13:18.451938Z"
    },
    "collapsed": true
   },
   "outputs": [],
   "source": [
    "import numpy as np\n"
   ]
  },
  {
   "cell_type": "code",
   "execution_count": 25,
   "metadata": {
    "ExecuteTime": {
     "end_time": "2018-09-17T01:13:22.396006Z",
     "start_time": "2018-09-17T01:13:22.391266Z"
    }
   },
   "outputs": [
    {
     "name": "stdout",
     "output_type": "stream",
     "text": [
      "{'user_id': 141186922, 'songs': [480159174, 182139857, 449204565, 160097478, 439037787, 422573118, 441596952, 428142006, 428810550, 428810619, 409054404, 393487224, 356057144, 382367201, 381253301, 363613115, 368643293, 371679506, 373130744, 330567729, 357804515, 233505497, 228501848, 176237086, 192408098, 344372146, 344525400, 347379577, 339318387, 345284640, 348867878, 139791623, 331261417, 330553971, 326097904, 332400509, 230795304, 179746710, 179746792, 179746888, 217031745, 339295603, 338504542, 331803840, 316845656, 331332422, 323874601, 328093943, 324820086, 191526274, 319678083, 320268000, 232764646, 321070937, 316964060, 317733357, 304822901, 294279693, 317010235, 314171510, 168712571, 312995844, 308246207, 306891184, 308066952, 305558912, 305157270, 303406208, 302391041, 303646929, 304154598, 302382926, 303599212, 231422683, 194198237, 262092630, 300680533, 298289587, 298712348, 296685652, 297753736, 297662583, 296419816, 265251355, 295949525, 260265693, 290163279, 293670200, 292511942, 292514057, 288734688, 291479974, 290991580, 289184364, 290462762, 115468010, 290335129, 289751200, 289161540, 288974431, 281518413, 287530501, 196600964, 268202053, 268900354, 184675127, 286190195, 283870222, 236545578, 239323622, 257388164, 273553442, 280428827, 281505761, 279526611, 279717795, 277928594, 276995243, 275932761, 275919522, 276914158, 276695475, 276696190, 276696938, 260988240, 274807237, 274172563, 273475657, 273190437, 261587226, 261522587, 272805235, 206237078, 257057352, 271264760, 269225991, 231372699, 262192093, 270194328, 174502088, 270449038, 189454815, 270057138, 268408422, 260098206, 260217789, 262155364, 261003578, 219084783, 260684591, 260097092, 233797368, 257977243, 257877797, 257827608, 257274630, 255656132, 255471687, 238019503, 245265683, 254298840, 254814437, 253413810, 251842882, 251904713, 251273255, 251218521, 250889226, 249683446, 202056901, 248359422, 243234309, 243732849, 247563173, 247423184, 232862703, 247382794, 246884083, 235188399, 245157173, 232881532, 242855714, 244428826, 244257210, 244428585, 243932055, 243877958, 242539038, 241782898, 241348439, 225364629, 231580029, 214831268, 232927686, 227189710, 234370326, 226934055, 236369945, 234432559, 232435384, 233584112, 232785624, 228076072, 221897552, 215979158, 229556512, 181052013, 229776904, 181408348, 228388201, 214446502, 216847454, 225070715, 225426666, 225066758, 224149556, 216487635, 179479530, 170027914, 216846955, 209977691, 211726204, 200585562, 214859752, 214387019, 155510071, 213828110, 212795925, 213225595, 212386612, 211820154, 210148437, 186022536, 205638156, 207499941, 182276892, 206210473, 202492012, 166946402, 182125845, 178369911, 200818581, 195579895, 199674885, 193962667, 193005189, 197311173, 189525707, 189122192, 195015238, 194771237], 'degree': 1}\n"
     ]
    }
   ],
   "source": [
    "# print(list_of_user_songs_dict[1])"
   ]
  },
  {
   "cell_type": "code",
   "execution_count": 26,
   "metadata": {
    "ExecuteTime": {
     "end_time": "2018-09-17T01:13:32.964166Z",
     "start_time": "2018-09-17T01:13:32.959052Z"
    }
   },
   "outputs": [
    {
     "data": {
      "text/plain": [
       "14"
      ]
     },
     "execution_count": 26,
     "metadata": {},
     "output_type": "execute_result"
    }
   ],
   "source": [
    "len(list_of_user_songs_dict)"
   ]
  },
  {
   "cell_type": "markdown",
   "metadata": {},
   "source": [
    "Now I have to put the songs into a dataframe that has the song track and the degree and the user_id"
   ]
  },
  {
   "cell_type": "code",
   "execution_count": 40,
   "metadata": {
    "ExecuteTime": {
     "end_time": "2018-09-17T01:20:52.373005Z",
     "start_time": "2018-09-17T01:20:52.340348Z"
    }
   },
   "outputs": [],
   "source": [
    "import pandas as pd\n",
    "all_songs = pd.DataFrame()\n",
    "for user in list_of_user_songs_dict:\n",
    "    user_df = pd.DataFrame(user)\n",
    "    user_df['present'] = 1\n",
    "    all_songs = all_songs.append(user_df)\n",
    "#     print(user)\n",
    "    #break"
   ]
  },
  {
   "cell_type": "code",
   "execution_count": 41,
   "metadata": {
    "ExecuteTime": {
     "end_time": "2018-09-17T01:20:53.280655Z",
     "start_time": "2018-09-17T01:20:53.275408Z"
    },
    "scrolled": true
   },
   "outputs": [
    {
     "data": {
      "text/plain": [
       "2196"
      ]
     },
     "execution_count": 41,
     "metadata": {},
     "output_type": "execute_result"
    }
   ],
   "source": [
    "len(all_songs)"
   ]
  },
  {
   "cell_type": "code",
   "execution_count": 51,
   "metadata": {
    "ExecuteTime": {
     "end_time": "2018-09-17T01:25:58.547464Z",
     "start_time": "2018-09-17T01:25:58.535751Z"
    }
   },
   "outputs": [
    {
     "data": {
      "text/html": [
       "<div>\n",
       "<style scoped>\n",
       "    .dataframe tbody tr th:only-of-type {\n",
       "        vertical-align: middle;\n",
       "    }\n",
       "\n",
       "    .dataframe tbody tr th {\n",
       "        vertical-align: top;\n",
       "    }\n",
       "\n",
       "    .dataframe thead th {\n",
       "        text-align: right;\n",
       "    }\n",
       "</style>\n",
       "<table border=\"1\" class=\"dataframe\">\n",
       "  <thead>\n",
       "    <tr style=\"text-align: right;\">\n",
       "      <th></th>\n",
       "      <th>user_id</th>\n",
       "      <th>songs</th>\n",
       "      <th>degree</th>\n",
       "      <th>present</th>\n",
       "    </tr>\n",
       "  </thead>\n",
       "  <tbody>\n",
       "    <tr>\n",
       "      <th>0</th>\n",
       "      <td>52154848</td>\n",
       "      <td>431218458</td>\n",
       "      <td>1</td>\n",
       "      <td>1</td>\n",
       "    </tr>\n",
       "    <tr>\n",
       "      <th>1</th>\n",
       "      <td>52154848</td>\n",
       "      <td>331341342</td>\n",
       "      <td>1</td>\n",
       "      <td>1</td>\n",
       "    </tr>\n",
       "    <tr>\n",
       "      <th>2</th>\n",
       "      <td>52154848</td>\n",
       "      <td>473543910</td>\n",
       "      <td>1</td>\n",
       "      <td>1</td>\n",
       "    </tr>\n",
       "    <tr>\n",
       "      <th>3</th>\n",
       "      <td>52154848</td>\n",
       "      <td>473555814</td>\n",
       "      <td>1</td>\n",
       "      <td>1</td>\n",
       "    </tr>\n",
       "    <tr>\n",
       "      <th>4</th>\n",
       "      <td>52154848</td>\n",
       "      <td>453371529</td>\n",
       "      <td>1</td>\n",
       "      <td>1</td>\n",
       "    </tr>\n",
       "  </tbody>\n",
       "</table>\n",
       "</div>"
      ],
      "text/plain": [
       "    user_id      songs  degree  present\n",
       "0  52154848  431218458       1        1\n",
       "1  52154848  331341342       1        1\n",
       "2  52154848  473543910       1        1\n",
       "3  52154848  473555814       1        1\n",
       "4  52154848  453371529       1        1"
      ]
     },
     "execution_count": 51,
     "metadata": {},
     "output_type": "execute_result"
    }
   ],
   "source": [
    "all_songs.head()\n",
    "\n",
    "all_songs.songs = all_songs.songs.astype(int)\n",
    "all_songs.head()"
   ]
  },
  {
   "cell_type": "code",
   "execution_count": 47,
   "metadata": {
    "ExecuteTime": {
     "end_time": "2018-09-17T01:22:25.563696Z",
     "start_time": "2018-09-17T01:22:25.555397Z"
    }
   },
   "outputs": [
    {
     "name": "stdout",
     "output_type": "stream",
     "text": [
      "<class 'pandas.core.frame.DataFrame'>\n",
      "Int64Index: 2196 entries, 0 to 12\n",
      "Data columns (total 4 columns):\n",
      "user_id    2196 non-null int64\n",
      "songs      2196 non-null int64\n",
      "degree     2196 non-null int64\n",
      "present    2196 non-null int64\n",
      "dtypes: int64(4)\n",
      "memory usage: 85.8 KB\n"
     ]
    }
   ],
   "source": [
    "all_songs.info()"
   ]
  },
  {
   "cell_type": "code",
   "execution_count": 56,
   "metadata": {
    "ExecuteTime": {
     "end_time": "2018-09-13T08:12:00.991045Z",
     "start_time": "2018-09-13T08:12:00.976266Z"
    }
   },
   "outputs": [
    {
     "data": {
      "text/html": [
       "<div>\n",
       "<style scoped>\n",
       "    .dataframe tbody tr th:only-of-type {\n",
       "        vertical-align: middle;\n",
       "    }\n",
       "\n",
       "    .dataframe tbody tr th {\n",
       "        vertical-align: top;\n",
       "    }\n",
       "\n",
       "    .dataframe thead th {\n",
       "        text-align: right;\n",
       "    }\n",
       "</style>\n",
       "<table border=\"1\" class=\"dataframe\">\n",
       "  <thead>\n",
       "    <tr style=\"text-align: right;\">\n",
       "      <th></th>\n",
       "      <th>songs</th>\n",
       "      <th>user_id</th>\n",
       "      <th>present</th>\n",
       "    </tr>\n",
       "  </thead>\n",
       "  <tbody>\n",
       "    <tr>\n",
       "      <th>0</th>\n",
       "      <td>440627367</td>\n",
       "      <td>109859243</td>\n",
       "      <td>1</td>\n",
       "    </tr>\n",
       "    <tr>\n",
       "      <th>1</th>\n",
       "      <td>320550835</td>\n",
       "      <td>109859243</td>\n",
       "      <td>1</td>\n",
       "    </tr>\n",
       "    <tr>\n",
       "      <th>2</th>\n",
       "      <td>308704721</td>\n",
       "      <td>109859243</td>\n",
       "      <td>1</td>\n",
       "    </tr>\n",
       "    <tr>\n",
       "      <th>3</th>\n",
       "      <td>287673763</td>\n",
       "      <td>109859243</td>\n",
       "      <td>1</td>\n",
       "    </tr>\n",
       "    <tr>\n",
       "      <th>4</th>\n",
       "      <td>236934685</td>\n",
       "      <td>109859243</td>\n",
       "      <td>1</td>\n",
       "    </tr>\n",
       "  </tbody>\n",
       "</table>\n",
       "</div>"
      ],
      "text/plain": [
       "       songs    user_id  present\n",
       "0  440627367  109859243        1\n",
       "1  320550835  109859243        1\n",
       "2  308704721  109859243        1\n",
       "3  287673763  109859243        1\n",
       "4  236934685  109859243        1"
      ]
     },
     "execution_count": 56,
     "metadata": {},
     "output_type": "execute_result"
    }
   ],
   "source": [
    "import pandas as pd\n",
    "\n",
    "# test_df = pd.DataFrame()\n",
    "# test_df['songs'] = (list_of_user_songs_dict[0].get('songs'))\n",
    "# test_df['user_id'] = list_of_user_songs_dict[0].get('user_id')\n",
    "# test_df['present'] = 1\n",
    "\n",
    "# test_df.head()"
   ]
  },
  {
   "cell_type": "code",
   "execution_count": 60,
   "metadata": {
    "ExecuteTime": {
     "end_time": "2018-09-13T08:12:40.185966Z",
     "start_time": "2018-09-13T08:12:40.176264Z"
    }
   },
   "outputs": [
    {
     "data": {
      "text/html": [
       "<div>\n",
       "<style scoped>\n",
       "    .dataframe tbody tr th:only-of-type {\n",
       "        vertical-align: middle;\n",
       "    }\n",
       "\n",
       "    .dataframe tbody tr th {\n",
       "        vertical-align: top;\n",
       "    }\n",
       "\n",
       "    .dataframe thead th {\n",
       "        text-align: right;\n",
       "    }\n",
       "</style>\n",
       "<table border=\"1\" class=\"dataframe\">\n",
       "  <thead>\n",
       "    <tr style=\"text-align: right;\">\n",
       "      <th></th>\n",
       "      <th>songs</th>\n",
       "      <th>user_id</th>\n",
       "      <th>present</th>\n",
       "    </tr>\n",
       "  </thead>\n",
       "  <tbody>\n",
       "    <tr>\n",
       "      <th>0</th>\n",
       "      <td>494669505</td>\n",
       "      <td>284803</td>\n",
       "      <td>1</td>\n",
       "    </tr>\n",
       "    <tr>\n",
       "      <th>1</th>\n",
       "      <td>474527034</td>\n",
       "      <td>284803</td>\n",
       "      <td>1</td>\n",
       "    </tr>\n",
       "    <tr>\n",
       "      <th>2</th>\n",
       "      <td>248828138</td>\n",
       "      <td>284803</td>\n",
       "      <td>1</td>\n",
       "    </tr>\n",
       "    <tr>\n",
       "      <th>3</th>\n",
       "      <td>458716764</td>\n",
       "      <td>284803</td>\n",
       "      <td>1</td>\n",
       "    </tr>\n",
       "    <tr>\n",
       "      <th>4</th>\n",
       "      <td>260682299</td>\n",
       "      <td>284803</td>\n",
       "      <td>1</td>\n",
       "    </tr>\n",
       "  </tbody>\n",
       "</table>\n",
       "</div>"
      ],
      "text/plain": [
       "       songs  user_id  present\n",
       "0  494669505   284803        1\n",
       "1  474527034   284803        1\n",
       "2  248828138   284803        1\n",
       "3  458716764   284803        1\n",
       "4  260682299   284803        1"
      ]
     },
     "execution_count": 60,
     "metadata": {},
     "output_type": "execute_result"
    }
   ],
   "source": [
    "# ok now put all of them into a matrix so that i can do the recommendations\n",
    "# testing.head()"
   ]
  },
  {
   "cell_type": "code",
   "execution_count": 61,
   "metadata": {
    "ExecuteTime": {
     "end_time": "2018-09-13T08:13:25.964694Z",
     "start_time": "2018-09-13T08:13:25.952220Z"
    }
   },
   "outputs": [
    {
     "data": {
      "text/plain": [
       "114"
      ]
     },
     "execution_count": 61,
     "metadata": {},
     "output_type": "execute_result"
    }
   ],
   "source": [
    "testing_2 = pd.DataFrame()\n",
    "testing_2['songs'] = list_of_user_songs_dict[2].get('songs')\n",
    "testing_2['user_id'] = list_of_user_songs_dict[2].get('user_id')\n",
    "testing_2['present'] = 1\n",
    "\n",
    "combined = pd.concat([test_df, testing_2], axis= 0)\n",
    "\n",
    "len(combined)\n"
   ]
  },
  {
   "cell_type": "code",
   "execution_count": 62,
   "metadata": {
    "ExecuteTime": {
     "end_time": "2018-09-13T08:13:27.597600Z",
     "start_time": "2018-09-13T08:13:27.590510Z"
    }
   },
   "outputs": [
    {
     "data": {
      "text/plain": [
       "1231887      61\n",
       "109859243    53\n",
       "Name: user_id, dtype: int64"
      ]
     },
     "execution_count": 62,
     "metadata": {},
     "output_type": "execute_result"
    }
   ],
   "source": [
    "# combined['user_id'].value_counts()"
   ]
  },
  {
   "cell_type": "code",
   "execution_count": 63,
   "metadata": {
    "ExecuteTime": {
     "end_time": "2018-09-13T08:13:30.534992Z",
     "start_time": "2018-09-13T08:13:30.525118Z"
    }
   },
   "outputs": [
    {
     "data": {
      "text/html": [
       "<div>\n",
       "<style scoped>\n",
       "    .dataframe tbody tr th:only-of-type {\n",
       "        vertical-align: middle;\n",
       "    }\n",
       "\n",
       "    .dataframe tbody tr th {\n",
       "        vertical-align: top;\n",
       "    }\n",
       "\n",
       "    .dataframe thead th {\n",
       "        text-align: right;\n",
       "    }\n",
       "</style>\n",
       "<table border=\"1\" class=\"dataframe\">\n",
       "  <thead>\n",
       "    <tr style=\"text-align: right;\">\n",
       "      <th></th>\n",
       "      <th>songs</th>\n",
       "      <th>user_id</th>\n",
       "      <th>present</th>\n",
       "    </tr>\n",
       "  </thead>\n",
       "  <tbody>\n",
       "    <tr>\n",
       "      <th>0</th>\n",
       "      <td>494669505</td>\n",
       "      <td>284803</td>\n",
       "      <td>1</td>\n",
       "    </tr>\n",
       "    <tr>\n",
       "      <th>1</th>\n",
       "      <td>474527034</td>\n",
       "      <td>284803</td>\n",
       "      <td>1</td>\n",
       "    </tr>\n",
       "    <tr>\n",
       "      <th>2</th>\n",
       "      <td>248828138</td>\n",
       "      <td>284803</td>\n",
       "      <td>1</td>\n",
       "    </tr>\n",
       "    <tr>\n",
       "      <th>3</th>\n",
       "      <td>458716764</td>\n",
       "      <td>284803</td>\n",
       "      <td>1</td>\n",
       "    </tr>\n",
       "    <tr>\n",
       "      <th>4</th>\n",
       "      <td>260682299</td>\n",
       "      <td>284803</td>\n",
       "      <td>1</td>\n",
       "    </tr>\n",
       "  </tbody>\n",
       "</table>\n",
       "</div>"
      ],
      "text/plain": [
       "       songs  user_id  present\n",
       "0  494669505   284803        1\n",
       "1  474527034   284803        1\n",
       "2  248828138   284803        1\n",
       "3  458716764   284803        1\n",
       "4  260682299   284803        1"
      ]
     },
     "execution_count": 63,
     "metadata": {},
     "output_type": "execute_result"
    }
   ],
   "source": [
    "# testing.head()"
   ]
  },
  {
   "cell_type": "markdown",
   "metadata": {},
   "source": [
    "Doing SVD "
   ]
  },
  {
   "cell_type": "code",
   "execution_count": 13,
   "metadata": {
    "ExecuteTime": {
     "end_time": "2018-09-13T06:54:18.560223Z",
     "start_time": "2018-09-13T06:54:17.475207Z"
    }
   },
   "outputs": [
    {
     "name": "stderr",
     "output_type": "stream",
     "text": [
      "/Users/jennwon/anaconda3/lib/python3.6/importlib/_bootstrap.py:219: RuntimeWarning: numpy.dtype size changed, may indicate binary incompatibility. Expected 96, got 88\n",
      "  return f(*args, **kwds)\n",
      "/Users/jennwon/anaconda3/lib/python3.6/importlib/_bootstrap.py:219: RuntimeWarning: numpy.dtype size changed, may indicate binary incompatibility. Expected 96, got 88\n",
      "  return f(*args, **kwds)\n"
     ]
    }
   ],
   "source": [
    "from sklearn.decomposition import TruncatedSVD\n",
    "# from sklearn.random_projection import sparse_random_matrix"
   ]
  },
  {
   "cell_type": "code",
   "execution_count": 48,
   "metadata": {
    "ExecuteTime": {
     "end_time": "2018-09-17T01:22:37.128656Z",
     "start_time": "2018-09-17T01:22:29.423485Z"
    }
   },
   "outputs": [],
   "source": [
    "# wait, i dont think i even used this for the recommendation system wtf\n",
    "\n",
    "from scipy.sparse import csr_matrix, csc_matrix\n",
    "\n",
    "sparse_matrix = csc_matrix((all_songs['present'], #this is the values that i care about\n",
    "                            (all_songs['user_id'],\n",
    "                             all_songs['songs'])), dtype = float) # these are the row/columns"
   ]
  },
  {
   "cell_type": "code",
   "execution_count": 32,
   "metadata": {
    "ExecuteTime": {
     "end_time": "2018-09-17T01:18:18.998859Z",
     "start_time": "2018-09-17T01:18:18.994494Z"
    },
    "collapsed": true
   },
   "outputs": [],
   "source": [
    "masks = {}\n",
    "for hops in range(1,4):\n",
    "    masks[hops] = np.array([d['user_id'] for d in list_of_user_songs_dict if d['degree'] == hops])"
   ]
  },
  {
   "cell_type": "code",
   "execution_count": 33,
   "metadata": {
    "ExecuteTime": {
     "end_time": "2018-09-17T01:18:24.707733Z",
     "start_time": "2018-09-17T01:18:24.702328Z"
    }
   },
   "outputs": [
    {
     "data": {
      "text/plain": [
       "{1: array([ 52154848, 141186922]),\n",
       " 2: array([15838253,  6136047, 41671811, 21457447]),\n",
       " 3: array([ 87231728,   5140422,  31727523,   2098297, 120987187,    252907,\n",
       "         25968879,   7402148])}"
      ]
     },
     "execution_count": 33,
     "metadata": {},
     "output_type": "execute_result"
    }
   ],
   "source": [
    "masks #this is a dictionary of the users that i am intersted in and their degree"
   ]
  },
  {
   "cell_type": "code",
   "execution_count": 50,
   "metadata": {
    "ExecuteTime": {
     "end_time": "2018-09-17T01:24:26.050144Z",
     "start_time": "2018-09-17T01:24:26.043207Z"
    }
   },
   "outputs": [
    {
     "data": {
      "text/plain": [
       "array([ 52154848, 141186922])"
      ]
     },
     "execution_count": 50,
     "metadata": {},
     "output_type": "execute_result"
    }
   ],
   "source": [
    "masks[1]"
   ]
  },
  {
   "cell_type": "code",
   "execution_count": 53,
   "metadata": {
    "ExecuteTime": {
     "end_time": "2018-09-17T01:28:24.443940Z",
     "start_time": "2018-09-17T01:27:49.000309Z"
    },
    "scrolled": true
   },
   "outputs": [],
   "source": [
    "# i iwould want to keep a dictionary that makes the song to the track id\n",
    "# fix the q issue LOL\n",
    "\n",
    "contrib = sum(sparse_matrix[masks[1], :])\n",
    "# print(contrib)\n",
    "for level in range(1,3): #this part needs to be fixed to include all the degress/hops away\n",
    "    contrib += sum(sparse_matrix[masks[level + 1],:])/(level + 1) # should be +="
   ]
  },
  {
   "cell_type": "code",
   "execution_count": 76,
   "metadata": {
    "ExecuteTime": {
     "end_time": "2018-09-13T08:22:21.843265Z",
     "start_time": "2018-09-13T08:22:21.837620Z"
    }
   },
   "outputs": [
    {
     "data": {
      "text/plain": [
       "array([2, 3, 1, 0])"
      ]
     },
     "execution_count": 76,
     "metadata": {},
     "output_type": "execute_result"
    }
   ],
   "source": [
    "# np.argsort([10,5,1,3]) #this is a toy example"
   ]
  },
  {
   "cell_type": "code",
   "execution_count": 54,
   "metadata": {
    "ExecuteTime": {
     "end_time": "2018-09-17T01:29:10.617716Z",
     "start_time": "2018-09-17T01:28:29.537389Z"
    },
    "collapsed": true
   },
   "outputs": [],
   "source": [
    "jenns_songs = np.argsort(contrib.toarray())"
   ]
  },
  {
   "cell_type": "code",
   "execution_count": 55,
   "metadata": {
    "ExecuteTime": {
     "end_time": "2018-09-17T01:29:47.682044Z",
     "start_time": "2018-09-17T01:29:47.674185Z"
    }
   },
   "outputs": [
    {
     "data": {
      "text/plain": [
       "array([449204565, 253413810, 216846955, 194771237, 261587226, 189525707,\n",
       "       197311173, 179746710, 274807237, 217031745])"
      ]
     },
     "execution_count": 55,
     "metadata": {},
     "output_type": "execute_result"
    }
   ],
   "source": [
    "jenns_songs.reshape(-1,)[-10:][::-1]"
   ]
  },
  {
   "cell_type": "code",
   "execution_count": null,
   "metadata": {
    "collapsed": true
   },
   "outputs": [],
   "source": []
  },
  {
   "cell_type": "code",
   "execution_count": null,
   "metadata": {
    "collapsed": true
   },
   "outputs": [],
   "source": []
  },
  {
   "cell_type": "code",
   "execution_count": null,
   "metadata": {
    "collapsed": true
   },
   "outputs": [],
   "source": []
  },
  {
   "cell_type": "code",
   "execution_count": null,
   "metadata": {
    "collapsed": true
   },
   "outputs": [],
   "source": []
  },
  {
   "cell_type": "code",
   "execution_count": null,
   "metadata": {
    "collapsed": true
   },
   "outputs": [],
   "source": []
  },
  {
   "cell_type": "code",
   "execution_count": 27,
   "metadata": {
    "ExecuteTime": {
     "end_time": "2018-09-13T07:52:27.856706Z",
     "start_time": "2018-09-13T07:52:27.841685Z"
    }
   },
   "outputs": [
    {
     "ename": "MemoryError",
     "evalue": "",
     "output_type": "error",
     "traceback": [
      "\u001b[0;31m---------------------------------------------------------------------------\u001b[0m",
      "\u001b[0;31mMemoryError\u001b[0m                               Traceback (most recent call last)",
      "\u001b[0;32m<ipython-input-27-359e73b9a826>\u001b[0m in \u001b[0;36m<module>\u001b[0;34m()\u001b[0m\n\u001b[1;32m      3\u001b[0m \u001b[0mp\u001b[0m \u001b[0;34m=\u001b[0m \u001b[0mlen\u001b[0m\u001b[0;34m(\u001b[0m\u001b[0;34m(\u001b[0m\u001b[0mset\u001b[0m\u001b[0;34m(\u001b[0m\u001b[0mtesting\u001b[0m\u001b[0;34m.\u001b[0m\u001b[0msongs\u001b[0m\u001b[0;34m.\u001b[0m\u001b[0mvalues\u001b[0m\u001b[0;34m)\u001b[0m\u001b[0;34m)\u001b[0m\u001b[0;34m)\u001b[0m\u001b[0;34m\u001b[0m\u001b[0m\n\u001b[1;32m      4\u001b[0m \u001b[0;34m\u001b[0m\u001b[0m\n\u001b[0;32m----> 5\u001b[0;31m \u001b[0msp_df\u001b[0m \u001b[0;34m=\u001b[0m \u001b[0mpd\u001b[0m\u001b[0;34m.\u001b[0m\u001b[0mDataFrame\u001b[0m\u001b[0;34m(\u001b[0m\u001b[0msparse_matrix\u001b[0m\u001b[0;34m.\u001b[0m\u001b[0mtodense\u001b[0m\u001b[0;34m(\u001b[0m\u001b[0;34m)\u001b[0m\u001b[0;34m,\u001b[0m \u001b[0mindex\u001b[0m\u001b[0;34m=\u001b[0m\u001b[0mu\u001b[0m\u001b[0;34m,\u001b[0m \u001b[0mcolumns\u001b[0m\u001b[0;34m=\u001b[0m\u001b[0mp\u001b[0m\u001b[0;34m)\u001b[0m\u001b[0;34m\u001b[0m\u001b[0m\n\u001b[0m",
      "\u001b[0;32m~/anaconda3/lib/python3.6/site-packages/scipy/sparse/base.py\u001b[0m in \u001b[0;36mtodense\u001b[0;34m(self, order, out)\u001b[0m\n\u001b[1;32m    844\u001b[0m             \u001b[0;31m`\u001b[0m\u001b[0mnumpy\u001b[0m\u001b[0;34m.\u001b[0m\u001b[0mmatrix\u001b[0m\u001b[0;31m`\u001b[0m \u001b[0mobject\u001b[0m \u001b[0mthat\u001b[0m \u001b[0mshares\u001b[0m \u001b[0mthe\u001b[0m \u001b[0msame\u001b[0m \u001b[0mmemory\u001b[0m\u001b[0;34m.\u001b[0m\u001b[0;34m\u001b[0m\u001b[0m\n\u001b[1;32m    845\u001b[0m         \"\"\"\n\u001b[0;32m--> 846\u001b[0;31m         \u001b[0;32mreturn\u001b[0m \u001b[0mnp\u001b[0m\u001b[0;34m.\u001b[0m\u001b[0masmatrix\u001b[0m\u001b[0;34m(\u001b[0m\u001b[0mself\u001b[0m\u001b[0;34m.\u001b[0m\u001b[0mtoarray\u001b[0m\u001b[0;34m(\u001b[0m\u001b[0morder\u001b[0m\u001b[0;34m=\u001b[0m\u001b[0morder\u001b[0m\u001b[0;34m,\u001b[0m \u001b[0mout\u001b[0m\u001b[0;34m=\u001b[0m\u001b[0mout\u001b[0m\u001b[0;34m)\u001b[0m\u001b[0;34m)\u001b[0m\u001b[0;34m\u001b[0m\u001b[0m\n\u001b[0m\u001b[1;32m    847\u001b[0m \u001b[0;34m\u001b[0m\u001b[0m\n\u001b[1;32m    848\u001b[0m     \u001b[0;32mdef\u001b[0m \u001b[0mtoarray\u001b[0m\u001b[0;34m(\u001b[0m\u001b[0mself\u001b[0m\u001b[0;34m,\u001b[0m \u001b[0morder\u001b[0m\u001b[0;34m=\u001b[0m\u001b[0;32mNone\u001b[0m\u001b[0;34m,\u001b[0m \u001b[0mout\u001b[0m\u001b[0;34m=\u001b[0m\u001b[0;32mNone\u001b[0m\u001b[0;34m)\u001b[0m\u001b[0;34m:\u001b[0m\u001b[0;34m\u001b[0m\u001b[0m\n",
      "\u001b[0;32m~/anaconda3/lib/python3.6/site-packages/scipy/sparse/compressed.py\u001b[0m in \u001b[0;36mtoarray\u001b[0;34m(self, order, out)\u001b[0m\n\u001b[1;32m    945\u001b[0m         \u001b[0;32mif\u001b[0m \u001b[0mout\u001b[0m \u001b[0;32mis\u001b[0m \u001b[0;32mNone\u001b[0m \u001b[0;32mand\u001b[0m \u001b[0morder\u001b[0m \u001b[0;32mis\u001b[0m \u001b[0;32mNone\u001b[0m\u001b[0;34m:\u001b[0m\u001b[0;34m\u001b[0m\u001b[0m\n\u001b[1;32m    946\u001b[0m             \u001b[0morder\u001b[0m \u001b[0;34m=\u001b[0m \u001b[0mself\u001b[0m\u001b[0;34m.\u001b[0m\u001b[0m_swap\u001b[0m\u001b[0;34m(\u001b[0m\u001b[0;34m'cf'\u001b[0m\u001b[0;34m)\u001b[0m\u001b[0;34m[\u001b[0m\u001b[0;36m0\u001b[0m\u001b[0;34m]\u001b[0m\u001b[0;34m\u001b[0m\u001b[0m\n\u001b[0;32m--> 947\u001b[0;31m         \u001b[0mout\u001b[0m \u001b[0;34m=\u001b[0m \u001b[0mself\u001b[0m\u001b[0;34m.\u001b[0m\u001b[0m_process_toarray_args\u001b[0m\u001b[0;34m(\u001b[0m\u001b[0morder\u001b[0m\u001b[0;34m,\u001b[0m \u001b[0mout\u001b[0m\u001b[0;34m)\u001b[0m\u001b[0;34m\u001b[0m\u001b[0m\n\u001b[0m\u001b[1;32m    948\u001b[0m         \u001b[0;32mif\u001b[0m \u001b[0;32mnot\u001b[0m \u001b[0;34m(\u001b[0m\u001b[0mout\u001b[0m\u001b[0;34m.\u001b[0m\u001b[0mflags\u001b[0m\u001b[0;34m.\u001b[0m\u001b[0mc_contiguous\u001b[0m \u001b[0;32mor\u001b[0m \u001b[0mout\u001b[0m\u001b[0;34m.\u001b[0m\u001b[0mflags\u001b[0m\u001b[0;34m.\u001b[0m\u001b[0mf_contiguous\u001b[0m\u001b[0;34m)\u001b[0m\u001b[0;34m:\u001b[0m\u001b[0;34m\u001b[0m\u001b[0m\n\u001b[1;32m    949\u001b[0m             \u001b[0;32mraise\u001b[0m \u001b[0mValueError\u001b[0m\u001b[0;34m(\u001b[0m\u001b[0;34m'Output array must be C or F contiguous'\u001b[0m\u001b[0;34m)\u001b[0m\u001b[0;34m\u001b[0m\u001b[0m\n",
      "\u001b[0;32m~/anaconda3/lib/python3.6/site-packages/scipy/sparse/base.py\u001b[0m in \u001b[0;36m_process_toarray_args\u001b[0;34m(self, order, out)\u001b[0m\n\u001b[1;32m   1182\u001b[0m             \u001b[0;32mreturn\u001b[0m \u001b[0mout\u001b[0m\u001b[0;34m\u001b[0m\u001b[0m\n\u001b[1;32m   1183\u001b[0m         \u001b[0;32melse\u001b[0m\u001b[0;34m:\u001b[0m\u001b[0;34m\u001b[0m\u001b[0m\n\u001b[0;32m-> 1184\u001b[0;31m             \u001b[0;32mreturn\u001b[0m \u001b[0mnp\u001b[0m\u001b[0;34m.\u001b[0m\u001b[0mzeros\u001b[0m\u001b[0;34m(\u001b[0m\u001b[0mself\u001b[0m\u001b[0;34m.\u001b[0m\u001b[0mshape\u001b[0m\u001b[0;34m,\u001b[0m \u001b[0mdtype\u001b[0m\u001b[0;34m=\u001b[0m\u001b[0mself\u001b[0m\u001b[0;34m.\u001b[0m\u001b[0mdtype\u001b[0m\u001b[0;34m,\u001b[0m \u001b[0morder\u001b[0m\u001b[0;34m=\u001b[0m\u001b[0morder\u001b[0m\u001b[0;34m)\u001b[0m\u001b[0;34m\u001b[0m\u001b[0m\n\u001b[0m\u001b[1;32m   1185\u001b[0m \u001b[0;34m\u001b[0m\u001b[0m\n\u001b[1;32m   1186\u001b[0m \u001b[0;34m\u001b[0m\u001b[0m\n",
      "\u001b[0;31mMemoryError\u001b[0m: "
     ]
    }
   ],
   "source": [
    "import pandas as pd\n",
    "u = len((set(testing.user_id.values)))\n",
    "p = len((set(testing.songs.values)))\n",
    "\n",
    "sp_df = pd.DataFrame(sparse_matrix.todense(), index=u, columns=p)"
   ]
  },
  {
   "cell_type": "code",
   "execution_count": 16,
   "metadata": {
    "ExecuteTime": {
     "end_time": "2018-09-13T07:18:08.334811Z",
     "start_time": "2018-09-13T07:18:08.328887Z"
    },
    "collapsed": true
   },
   "outputs": [],
   "source": [
    "import pickle\n",
    "\n",
    "with open('test_sparse_matrix.pkl', 'wb') as file_name:\n",
    "    pickle.dump(test_df, file_name)\n",
    "    file_name.close()"
   ]
  },
  {
   "cell_type": "code",
   "execution_count": 7,
   "metadata": {
    "ExecuteTime": {
     "end_time": "2018-09-13T07:48:47.616249Z",
     "start_time": "2018-09-13T07:48:47.595290Z"
    }
   },
   "outputs": [
    {
     "name": "stdout",
     "output_type": "stream",
     "text": [
      "       songs  user_id  present\n",
      "0  494669505   284803        1\n",
      "1  474527034   284803        1\n",
      "2  248828138   284803        1\n",
      "3  458716764   284803        1\n",
      "4  260682299   284803        1\n"
     ]
    }
   ],
   "source": [
    "import pickle\n",
    "\n",
    "with open('test_sparse_matrix.pkl', 'rb') as file_name:\n",
    "    testing = pickle.load(file_name)\n",
    "    file_name.close()\n",
    "    \n",
    "print(testing[:5])"
   ]
  },
  {
   "cell_type": "code",
   "execution_count": 3,
   "metadata": {
    "ExecuteTime": {
     "end_time": "2018-09-13T07:43:15.175579Z",
     "start_time": "2018-09-13T07:32:54.329348Z"
    }
   },
   "outputs": [
    {
     "ename": "KeyboardInterrupt",
     "evalue": "",
     "output_type": "error",
     "traceback": [
      "\u001b[0;31m---------------------------------------------------------------------------\u001b[0m",
      "\u001b[0;31mKeyboardInterrupt\u001b[0m                         Traceback (most recent call last)",
      "\u001b[0;32m<ipython-input-3-7ddec456fe2a>\u001b[0m in \u001b[0;36m<module>\u001b[0;34m()\u001b[0m\n\u001b[1;32m      4\u001b[0m \u001b[0;34m\u001b[0m\u001b[0m\n\u001b[1;32m      5\u001b[0m \u001b[0;32mfrom\u001b[0m \u001b[0mscipy\u001b[0m\u001b[0;34m.\u001b[0m\u001b[0msparse\u001b[0m\u001b[0;34m.\u001b[0m\u001b[0mlinalg\u001b[0m \u001b[0;32mimport\u001b[0m \u001b[0msvds\u001b[0m\u001b[0;34m\u001b[0m\u001b[0m\n\u001b[0;32m----> 6\u001b[0;31m \u001b[0mU\u001b[0m\u001b[0;34m,\u001b[0m \u001b[0msigma\u001b[0m\u001b[0;34m,\u001b[0m \u001b[0mVt\u001b[0m \u001b[0;34m=\u001b[0m \u001b[0msvds\u001b[0m\u001b[0;34m(\u001b[0m\u001b[0msparse_matrix\u001b[0m\u001b[0;34m,\u001b[0m \u001b[0mk\u001b[0m \u001b[0;34m=\u001b[0m \u001b[0;36m50\u001b[0m\u001b[0;34m)\u001b[0m\u001b[0;34m\u001b[0m\u001b[0m\n\u001b[0m",
      "\u001b[0;32m~/anaconda3/lib/python3.6/site-packages/scipy/sparse/linalg/eigen/arpack/arpack.py\u001b[0m in \u001b[0;36msvds\u001b[0;34m(A, k, ncv, tol, which, v0, maxiter, return_singular_vectors)\u001b[0m\n\u001b[1;32m   1808\u001b[0m     \u001b[0;31m# This is not a stable way to approach the problem.\u001b[0m\u001b[0;34m\u001b[0m\u001b[0;34m\u001b[0m\u001b[0m\n\u001b[1;32m   1809\u001b[0m     eigvals, eigvec = eigsh(XH_X, k=k, tol=tol ** 2, maxiter=maxiter,\n\u001b[0;32m-> 1810\u001b[0;31m                                   ncv=ncv, which=which, v0=v0)\n\u001b[0m\u001b[1;32m   1811\u001b[0m \u001b[0;34m\u001b[0m\u001b[0m\n\u001b[1;32m   1812\u001b[0m     \u001b[0;31m# In 'LM' mode try to be clever about small eigenvalues.\u001b[0m\u001b[0;34m\u001b[0m\u001b[0;34m\u001b[0m\u001b[0m\n",
      "\u001b[0;32m~/anaconda3/lib/python3.6/site-packages/scipy/sparse/linalg/eigen/arpack/arpack.py\u001b[0m in \u001b[0;36meigsh\u001b[0;34m(A, k, M, sigma, which, v0, ncv, maxiter, tol, return_eigenvectors, Minv, OPinv, mode)\u001b[0m\n\u001b[1;32m   1649\u001b[0m     \u001b[0;32mwith\u001b[0m \u001b[0m_ARPACK_LOCK\u001b[0m\u001b[0;34m:\u001b[0m\u001b[0;34m\u001b[0m\u001b[0m\n\u001b[1;32m   1650\u001b[0m         \u001b[0;32mwhile\u001b[0m \u001b[0;32mnot\u001b[0m \u001b[0mparams\u001b[0m\u001b[0;34m.\u001b[0m\u001b[0mconverged\u001b[0m\u001b[0;34m:\u001b[0m\u001b[0;34m\u001b[0m\u001b[0m\n\u001b[0;32m-> 1651\u001b[0;31m             \u001b[0mparams\u001b[0m\u001b[0;34m.\u001b[0m\u001b[0miterate\u001b[0m\u001b[0;34m(\u001b[0m\u001b[0;34m)\u001b[0m\u001b[0;34m\u001b[0m\u001b[0m\n\u001b[0m\u001b[1;32m   1652\u001b[0m \u001b[0;34m\u001b[0m\u001b[0m\n\u001b[1;32m   1653\u001b[0m         \u001b[0;32mreturn\u001b[0m \u001b[0mparams\u001b[0m\u001b[0;34m.\u001b[0m\u001b[0mextract\u001b[0m\u001b[0;34m(\u001b[0m\u001b[0mreturn_eigenvectors\u001b[0m\u001b[0;34m)\u001b[0m\u001b[0;34m\u001b[0m\u001b[0m\n",
      "\u001b[0;32m~/anaconda3/lib/python3.6/site-packages/scipy/sparse/linalg/eigen/arpack/arpack.py\u001b[0m in \u001b[0;36miterate\u001b[0;34m(self)\u001b[0m\n\u001b[1;32m    546\u001b[0m             \u001b[0;31m# compute y = Op*x\u001b[0m\u001b[0;34m\u001b[0m\u001b[0;34m\u001b[0m\u001b[0m\n\u001b[1;32m    547\u001b[0m             \u001b[0;32mif\u001b[0m \u001b[0mself\u001b[0m\u001b[0;34m.\u001b[0m\u001b[0mmode\u001b[0m \u001b[0;34m==\u001b[0m \u001b[0;36m1\u001b[0m\u001b[0;34m:\u001b[0m\u001b[0;34m\u001b[0m\u001b[0m\n\u001b[0;32m--> 548\u001b[0;31m                 \u001b[0mself\u001b[0m\u001b[0;34m.\u001b[0m\u001b[0mworkd\u001b[0m\u001b[0;34m[\u001b[0m\u001b[0myslice\u001b[0m\u001b[0;34m]\u001b[0m \u001b[0;34m=\u001b[0m \u001b[0mself\u001b[0m\u001b[0;34m.\u001b[0m\u001b[0mOP\u001b[0m\u001b[0;34m(\u001b[0m\u001b[0mself\u001b[0m\u001b[0;34m.\u001b[0m\u001b[0mworkd\u001b[0m\u001b[0;34m[\u001b[0m\u001b[0mxslice\u001b[0m\u001b[0;34m]\u001b[0m\u001b[0;34m)\u001b[0m\u001b[0;34m\u001b[0m\u001b[0m\n\u001b[0m\u001b[1;32m    549\u001b[0m             \u001b[0;32melif\u001b[0m \u001b[0mself\u001b[0m\u001b[0;34m.\u001b[0m\u001b[0mmode\u001b[0m \u001b[0;34m==\u001b[0m \u001b[0;36m2\u001b[0m\u001b[0;34m:\u001b[0m\u001b[0;34m\u001b[0m\u001b[0m\n\u001b[1;32m    550\u001b[0m                 \u001b[0mself\u001b[0m\u001b[0;34m.\u001b[0m\u001b[0mworkd\u001b[0m\u001b[0;34m[\u001b[0m\u001b[0mxslice\u001b[0m\u001b[0;34m]\u001b[0m \u001b[0;34m=\u001b[0m \u001b[0mself\u001b[0m\u001b[0;34m.\u001b[0m\u001b[0mOPb\u001b[0m\u001b[0;34m(\u001b[0m\u001b[0mself\u001b[0m\u001b[0;34m.\u001b[0m\u001b[0mworkd\u001b[0m\u001b[0;34m[\u001b[0m\u001b[0mxslice\u001b[0m\u001b[0;34m]\u001b[0m\u001b[0;34m)\u001b[0m\u001b[0;34m\u001b[0m\u001b[0m\n",
      "\u001b[0;32m~/anaconda3/lib/python3.6/site-packages/scipy/sparse/linalg/interface.py\u001b[0m in \u001b[0;36mmatvec\u001b[0;34m(self, x)\u001b[0m\n\u001b[1;32m    217\u001b[0m             \u001b[0;32mraise\u001b[0m \u001b[0mValueError\u001b[0m\u001b[0;34m(\u001b[0m\u001b[0;34m'dimension mismatch'\u001b[0m\u001b[0;34m)\u001b[0m\u001b[0;34m\u001b[0m\u001b[0m\n\u001b[1;32m    218\u001b[0m \u001b[0;34m\u001b[0m\u001b[0m\n\u001b[0;32m--> 219\u001b[0;31m         \u001b[0my\u001b[0m \u001b[0;34m=\u001b[0m \u001b[0mself\u001b[0m\u001b[0;34m.\u001b[0m\u001b[0m_matvec\u001b[0m\u001b[0;34m(\u001b[0m\u001b[0mx\u001b[0m\u001b[0;34m)\u001b[0m\u001b[0;34m\u001b[0m\u001b[0m\n\u001b[0m\u001b[1;32m    220\u001b[0m \u001b[0;34m\u001b[0m\u001b[0m\n\u001b[1;32m    221\u001b[0m         \u001b[0;32mif\u001b[0m \u001b[0misinstance\u001b[0m\u001b[0;34m(\u001b[0m\u001b[0mx\u001b[0m\u001b[0;34m,\u001b[0m \u001b[0mnp\u001b[0m\u001b[0;34m.\u001b[0m\u001b[0mmatrix\u001b[0m\u001b[0;34m)\u001b[0m\u001b[0;34m:\u001b[0m\u001b[0;34m\u001b[0m\u001b[0m\n",
      "\u001b[0;32m~/anaconda3/lib/python3.6/site-packages/scipy/sparse/linalg/interface.py\u001b[0m in \u001b[0;36m_matvec\u001b[0;34m(self, x)\u001b[0m\n\u001b[1;32m    469\u001b[0m \u001b[0;34m\u001b[0m\u001b[0m\n\u001b[1;32m    470\u001b[0m     \u001b[0;32mdef\u001b[0m \u001b[0m_matvec\u001b[0m\u001b[0;34m(\u001b[0m\u001b[0mself\u001b[0m\u001b[0;34m,\u001b[0m \u001b[0mx\u001b[0m\u001b[0;34m)\u001b[0m\u001b[0;34m:\u001b[0m\u001b[0;34m\u001b[0m\u001b[0m\n\u001b[0;32m--> 471\u001b[0;31m         \u001b[0;32mreturn\u001b[0m \u001b[0mself\u001b[0m\u001b[0;34m.\u001b[0m\u001b[0m__matvec_impl\u001b[0m\u001b[0;34m(\u001b[0m\u001b[0mx\u001b[0m\u001b[0;34m)\u001b[0m\u001b[0;34m\u001b[0m\u001b[0m\n\u001b[0m\u001b[1;32m    472\u001b[0m \u001b[0;34m\u001b[0m\u001b[0m\n\u001b[1;32m    473\u001b[0m     \u001b[0;32mdef\u001b[0m \u001b[0m_rmatvec\u001b[0m\u001b[0;34m(\u001b[0m\u001b[0mself\u001b[0m\u001b[0;34m,\u001b[0m \u001b[0mx\u001b[0m\u001b[0;34m)\u001b[0m\u001b[0;34m:\u001b[0m\u001b[0;34m\u001b[0m\u001b[0m\n",
      "\u001b[0;32m~/anaconda3/lib/python3.6/site-packages/scipy/sparse/linalg/eigen/arpack/arpack.py\u001b[0m in \u001b[0;36mmatvec_XH_X\u001b[0;34m(x)\u001b[0m\n\u001b[1;32m   1800\u001b[0m \u001b[0;34m\u001b[0m\u001b[0m\n\u001b[1;32m   1801\u001b[0m     \u001b[0;32mdef\u001b[0m \u001b[0mmatvec_XH_X\u001b[0m\u001b[0;34m(\u001b[0m\u001b[0mx\u001b[0m\u001b[0;34m)\u001b[0m\u001b[0;34m:\u001b[0m\u001b[0;34m\u001b[0m\u001b[0m\n\u001b[0;32m-> 1802\u001b[0;31m         \u001b[0;32mreturn\u001b[0m \u001b[0mXH_dot\u001b[0m\u001b[0;34m(\u001b[0m\u001b[0mX_dot\u001b[0m\u001b[0;34m(\u001b[0m\u001b[0mx\u001b[0m\u001b[0;34m)\u001b[0m\u001b[0;34m)\u001b[0m\u001b[0;34m\u001b[0m\u001b[0m\n\u001b[0m\u001b[1;32m   1803\u001b[0m \u001b[0;34m\u001b[0m\u001b[0m\n\u001b[1;32m   1804\u001b[0m     XH_X = LinearOperator(matvec=matvec_XH_X, dtype=A.dtype,\n",
      "\u001b[0;32m~/anaconda3/lib/python3.6/site-packages/scipy/sparse/base.py\u001b[0m in \u001b[0;36mdot\u001b[0;34m(self, other)\u001b[0m\n\u001b[1;32m    359\u001b[0m \u001b[0;34m\u001b[0m\u001b[0m\n\u001b[1;32m    360\u001b[0m         \"\"\"\n\u001b[0;32m--> 361\u001b[0;31m         \u001b[0;32mreturn\u001b[0m \u001b[0mself\u001b[0m \u001b[0;34m*\u001b[0m \u001b[0mother\u001b[0m\u001b[0;34m\u001b[0m\u001b[0m\n\u001b[0m\u001b[1;32m    362\u001b[0m \u001b[0;34m\u001b[0m\u001b[0m\n\u001b[1;32m    363\u001b[0m     \u001b[0;32mdef\u001b[0m \u001b[0mpower\u001b[0m\u001b[0;34m(\u001b[0m\u001b[0mself\u001b[0m\u001b[0;34m,\u001b[0m \u001b[0mn\u001b[0m\u001b[0;34m,\u001b[0m \u001b[0mdtype\u001b[0m\u001b[0;34m=\u001b[0m\u001b[0;32mNone\u001b[0m\u001b[0;34m)\u001b[0m\u001b[0;34m:\u001b[0m\u001b[0;34m\u001b[0m\u001b[0m\n",
      "\u001b[0;32m~/anaconda3/lib/python3.6/site-packages/scipy/sparse/base.py\u001b[0m in \u001b[0;36m__mul__\u001b[0;34m(self, other)\u001b[0m\n\u001b[1;32m    464\u001b[0m             \u001b[0;31m# Fast path for the most common case\u001b[0m\u001b[0;34m\u001b[0m\u001b[0;34m\u001b[0m\u001b[0m\n\u001b[1;32m    465\u001b[0m             \u001b[0;32mif\u001b[0m \u001b[0mother\u001b[0m\u001b[0;34m.\u001b[0m\u001b[0mshape\u001b[0m \u001b[0;34m==\u001b[0m \u001b[0;34m(\u001b[0m\u001b[0mN\u001b[0m\u001b[0;34m,\u001b[0m\u001b[0;34m)\u001b[0m\u001b[0;34m:\u001b[0m\u001b[0;34m\u001b[0m\u001b[0m\n\u001b[0;32m--> 466\u001b[0;31m                 \u001b[0;32mreturn\u001b[0m \u001b[0mself\u001b[0m\u001b[0;34m.\u001b[0m\u001b[0m_mul_vector\u001b[0m\u001b[0;34m(\u001b[0m\u001b[0mother\u001b[0m\u001b[0;34m)\u001b[0m\u001b[0;34m\u001b[0m\u001b[0m\n\u001b[0m\u001b[1;32m    467\u001b[0m             \u001b[0;32melif\u001b[0m \u001b[0mother\u001b[0m\u001b[0;34m.\u001b[0m\u001b[0mshape\u001b[0m \u001b[0;34m==\u001b[0m \u001b[0;34m(\u001b[0m\u001b[0mN\u001b[0m\u001b[0;34m,\u001b[0m \u001b[0;36m1\u001b[0m\u001b[0;34m)\u001b[0m\u001b[0;34m:\u001b[0m\u001b[0;34m\u001b[0m\u001b[0m\n\u001b[1;32m    468\u001b[0m                 \u001b[0;32mreturn\u001b[0m \u001b[0mself\u001b[0m\u001b[0;34m.\u001b[0m\u001b[0m_mul_vector\u001b[0m\u001b[0;34m(\u001b[0m\u001b[0mother\u001b[0m\u001b[0;34m.\u001b[0m\u001b[0mravel\u001b[0m\u001b[0;34m(\u001b[0m\u001b[0;34m)\u001b[0m\u001b[0;34m)\u001b[0m\u001b[0;34m.\u001b[0m\u001b[0mreshape\u001b[0m\u001b[0;34m(\u001b[0m\u001b[0mM\u001b[0m\u001b[0;34m,\u001b[0m \u001b[0;36m1\u001b[0m\u001b[0;34m)\u001b[0m\u001b[0;34m\u001b[0m\u001b[0m\n",
      "\u001b[0;32m~/anaconda3/lib/python3.6/site-packages/scipy/sparse/compressed.py\u001b[0m in \u001b[0;36m_mul_vector\u001b[0;34m(self, other)\u001b[0m\n\u001b[1;32m    458\u001b[0m         \u001b[0;31m# csr_matvec or csc_matvec\u001b[0m\u001b[0;34m\u001b[0m\u001b[0;34m\u001b[0m\u001b[0m\n\u001b[1;32m    459\u001b[0m         \u001b[0mfn\u001b[0m \u001b[0;34m=\u001b[0m \u001b[0mgetattr\u001b[0m\u001b[0;34m(\u001b[0m\u001b[0m_sparsetools\u001b[0m\u001b[0;34m,\u001b[0m\u001b[0mself\u001b[0m\u001b[0;34m.\u001b[0m\u001b[0mformat\u001b[0m \u001b[0;34m+\u001b[0m \u001b[0;34m'_matvec'\u001b[0m\u001b[0;34m)\u001b[0m\u001b[0;34m\u001b[0m\u001b[0m\n\u001b[0;32m--> 460\u001b[0;31m         \u001b[0mfn\u001b[0m\u001b[0;34m(\u001b[0m\u001b[0mM\u001b[0m\u001b[0;34m,\u001b[0m \u001b[0mN\u001b[0m\u001b[0;34m,\u001b[0m \u001b[0mself\u001b[0m\u001b[0;34m.\u001b[0m\u001b[0mindptr\u001b[0m\u001b[0;34m,\u001b[0m \u001b[0mself\u001b[0m\u001b[0;34m.\u001b[0m\u001b[0mindices\u001b[0m\u001b[0;34m,\u001b[0m \u001b[0mself\u001b[0m\u001b[0;34m.\u001b[0m\u001b[0mdata\u001b[0m\u001b[0;34m,\u001b[0m \u001b[0mother\u001b[0m\u001b[0;34m,\u001b[0m \u001b[0mresult\u001b[0m\u001b[0;34m)\u001b[0m\u001b[0;34m\u001b[0m\u001b[0m\n\u001b[0m\u001b[1;32m    461\u001b[0m \u001b[0;34m\u001b[0m\u001b[0m\n\u001b[1;32m    462\u001b[0m         \u001b[0;32mreturn\u001b[0m \u001b[0mresult\u001b[0m\u001b[0;34m\u001b[0m\u001b[0m\n",
      "\u001b[0;31mKeyboardInterrupt\u001b[0m: "
     ]
    }
   ],
   "source": [
    "#from scipy.sparse.coo_matrix import asfptype\n",
    "\n",
    "#sparse_matrix.asfptype()\n",
    "\n",
    "from scipy.sparse.linalg import svds\n",
    "U, sigma, Vt = svds(sparse_matrix, k = 50)"
   ]
  },
  {
   "cell_type": "code",
   "execution_count": null,
   "metadata": {
    "collapsed": true
   },
   "outputs": [],
   "source": []
  }
 ],
 "metadata": {
  "kernelspec": {
   "display_name": "Python 3",
   "language": "python",
   "name": "python3"
  },
  "language_info": {
   "codemirror_mode": {
    "name": "ipython",
    "version": 3
   },
   "file_extension": ".py",
   "mimetype": "text/x-python",
   "name": "python",
   "nbconvert_exporter": "python",
   "pygments_lexer": "ipython3",
   "version": "3.6.3"
  },
  "varInspector": {
   "cols": {
    "lenName": 16,
    "lenType": 16,
    "lenVar": 40
   },
   "kernels_config": {
    "python": {
     "delete_cmd_postfix": "",
     "delete_cmd_prefix": "del ",
     "library": "var_list.py",
     "varRefreshCmd": "print(var_dic_list())"
    },
    "r": {
     "delete_cmd_postfix": ") ",
     "delete_cmd_prefix": "rm(",
     "library": "var_list.r",
     "varRefreshCmd": "cat(var_dic_list()) "
    }
   },
   "types_to_exclude": [
    "module",
    "function",
    "builtin_function_or_method",
    "instance",
    "_Feature"
   ],
   "window_display": false
  }
 },
 "nbformat": 4,
 "nbformat_minor": 2
}
