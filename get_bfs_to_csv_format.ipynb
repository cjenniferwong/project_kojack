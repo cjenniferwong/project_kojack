{
 "cells": [
  {
   "cell_type": "code",
   "execution_count": 1,
   "metadata": {
    "ExecuteTime": {
     "end_time": "2018-09-13T22:38:34.525695Z",
     "start_time": "2018-09-13T22:38:34.478420Z"
    },
    "collapsed": true
   },
   "outputs": [],
   "source": [
    "import pickle\n",
    "\n",
    "with open('all_bfs_edges.pkl', 'rb') as file_name:\n",
    "    bfs_edges = pickle.load(file_name)\n",
    "    file_name.close()"
   ]
  },
  {
   "cell_type": "code",
   "execution_count": 2,
   "metadata": {
    "ExecuteTime": {
     "end_time": "2018-09-13T17:38:55.793053Z",
     "start_time": "2018-09-13T17:38:55.781738Z"
    }
   },
   "outputs": [
    {
     "data": {
      "text/plain": [
       "list"
      ]
     },
     "execution_count": 2,
     "metadata": {},
     "output_type": "execute_result"
    }
   ],
   "source": [
    "type(bfs_edges)"
   ]
  },
  {
   "cell_type": "code",
   "execution_count": 7,
   "metadata": {
    "ExecuteTime": {
     "end_time": "2018-09-13T17:39:51.020694Z",
     "start_time": "2018-09-13T17:39:51.013567Z"
    }
   },
   "outputs": [
    {
     "data": {
      "text/plain": [
       "[(83946795, 78655151),\n",
       " (108978092, 78655151),\n",
       " (97028504, 78655151),\n",
       " (95319776, 78655151),\n",
       " (234740962, 78655151)]"
      ]
     },
     "execution_count": 7,
     "metadata": {},
     "output_type": "execute_result"
    }
   ],
   "source": [
    "len(bfs_edges)\n",
    "bfs_edges[:5]"
   ]
  },
  {
   "cell_type": "code",
   "execution_count": 4,
   "metadata": {
    "ExecuteTime": {
     "end_time": "2018-09-13T17:39:33.533179Z",
     "start_time": "2018-09-13T17:39:33.493033Z"
    },
    "collapsed": true
   },
   "outputs": [],
   "source": [
    "with open('edges_from_106649957.pkl', 'rb') as file_name:\n",
    "    test = pickle.load(file_name)\n",
    "    file_name.close()"
   ]
  },
  {
   "cell_type": "code",
   "execution_count": 5,
   "metadata": {
    "ExecuteTime": {
     "end_time": "2018-09-13T17:39:36.151599Z",
     "start_time": "2018-09-13T17:39:36.146204Z"
    }
   },
   "outputs": [
    {
     "data": {
      "text/plain": [
       "100003"
      ]
     },
     "execution_count": 5,
     "metadata": {},
     "output_type": "execute_result"
    }
   ],
   "source": [
    "len(test)"
   ]
  },
  {
   "cell_type": "code",
   "execution_count": 6,
   "metadata": {
    "ExecuteTime": {
     "end_time": "2018-09-13T17:39:43.320997Z",
     "start_time": "2018-09-13T17:39:43.315324Z"
    }
   },
   "outputs": [
    {
     "data": {
      "text/plain": [
       "[(3515220, 106649957),\n",
       " (336139, 106649957),\n",
       " (253517684, 106649957),\n",
       " (192279130, 106649957),\n",
       " (125936040, 106649957)]"
      ]
     },
     "execution_count": 6,
     "metadata": {},
     "output_type": "execute_result"
    }
   ],
   "source": [
    "test[:5]"
   ]
  },
  {
   "cell_type": "code",
   "execution_count": 2,
   "metadata": {
    "ExecuteTime": {
     "end_time": "2018-09-13T22:38:40.512685Z",
     "start_time": "2018-09-13T22:38:40.509013Z"
    },
    "collapsed": true
   },
   "outputs": [],
   "source": [
    "from glob import glob"
   ]
  },
  {
   "cell_type": "code",
   "execution_count": 3,
   "metadata": {
    "ExecuteTime": {
     "end_time": "2018-09-13T22:38:41.008398Z",
     "start_time": "2018-09-13T22:38:40.992656Z"
    }
   },
   "outputs": [
    {
     "data": {
      "text/plain": [
       "11"
      ]
     },
     "execution_count": 3,
     "metadata": {},
     "output_type": "execute_result"
    }
   ],
   "source": [
    "all_files_paths = glob('edges_from*.pkl')\n",
    "len(all_files_paths)"
   ]
  },
  {
   "cell_type": "code",
   "execution_count": 4,
   "metadata": {
    "ExecuteTime": {
     "end_time": "2018-09-13T22:38:48.962184Z",
     "start_time": "2018-09-13T22:38:48.587617Z"
    }
   },
   "outputs": [
    {
     "name": "stdout",
     "output_type": "stream",
     "text": [
      "the length of this file is 100000, and now the edges_list is length 100000\n",
      "the length of this file is 100001, and now the edges_list is length 200001\n",
      "the length of this file is 100001, and now the edges_list is length 300002\n",
      "the length of this file is 100002, and now the edges_list is length 400004\n",
      "the length of this file is 117685, and now the edges_list is length 517689\n",
      "the length of this file is 100003, and now the edges_list is length 617692\n",
      "the length of this file is 100001, and now the edges_list is length 717693\n",
      "the length of this file is 100003, and now the edges_list is length 817696\n",
      "the length of this file is 100003, and now the edges_list is length 917699\n",
      "the length of this file is 100004, and now the edges_list is length 1017703\n",
      "the length of this file is 100003, and now the edges_list is length 1117706\n"
     ]
    }
   ],
   "source": [
    "edges_list = []\n",
    "\n",
    "for file in all_files_paths:\n",
    "    with open( file, 'rb') as file_name:\n",
    "        edges = pickle.load(file_name)\n",
    "        edges_list.extend(edges)\n",
    "        print(f'the length of this file is {len(edges)}, and now the edges_list is length {len(edges_list)}')\n",
    "        file_name.close()"
   ]
  },
  {
   "cell_type": "code",
   "execution_count": 5,
   "metadata": {
    "ExecuteTime": {
     "end_time": "2018-09-13T22:39:05.479534Z",
     "start_time": "2018-09-13T22:39:05.453558Z"
    },
    "collapsed": true
   },
   "outputs": [],
   "source": [
    "import csv\n",
    "\n",
    "with open('all_bfs_edges.csv', \"w\") as output:\n",
    "    writer = csv.writer(output, lineterminator='\\n')\n",
    "    writer.writerow(['Source', 'Target'])\n",
    "    for val in edges_list[:10000]:\n",
    "        #print(list(val))\n",
    "        writer.writerow(list(val)) \n",
    "        #break"
   ]
  },
  {
   "cell_type": "code",
   "execution_count": null,
   "metadata": {
    "collapsed": true
   },
   "outputs": [],
   "source": []
  }
 ],
 "metadata": {
  "kernelspec": {
   "display_name": "Python 3",
   "language": "python",
   "name": "python3"
  },
  "language_info": {
   "codemirror_mode": {
    "name": "ipython",
    "version": 3
   },
   "file_extension": ".py",
   "mimetype": "text/x-python",
   "name": "python",
   "nbconvert_exporter": "python",
   "pygments_lexer": "ipython3",
   "version": "3.6.3"
  },
  "varInspector": {
   "cols": {
    "lenName": 16,
    "lenType": 16,
    "lenVar": 40
   },
   "kernels_config": {
    "python": {
     "delete_cmd_postfix": "",
     "delete_cmd_prefix": "del ",
     "library": "var_list.py",
     "varRefreshCmd": "print(var_dic_list())"
    },
    "r": {
     "delete_cmd_postfix": ") ",
     "delete_cmd_prefix": "rm(",
     "library": "var_list.r",
     "varRefreshCmd": "cat(var_dic_list()) "
    }
   },
   "types_to_exclude": [
    "module",
    "function",
    "builtin_function_or_method",
    "instance",
    "_Feature"
   ],
   "window_display": false
  }
 },
 "nbformat": 4,
 "nbformat_minor": 2
}
